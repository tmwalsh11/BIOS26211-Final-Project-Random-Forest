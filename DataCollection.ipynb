{
 "cells": [
  {
   "cell_type": "code",
   "execution_count": 1,
   "id": "6e29aedc-ba7b-4bd7-97f3-815b06c29136",
   "metadata": {},
   "outputs": [],
   "source": [
    "import pandas as pd\n",
    "\n",
    "files = {\n",
    "    \"Week_0_Normal\": \"GSE162653_Week_0_Normal_weight_EDITED.txt\",\n",
    "    \"Week_0_Obese\": \"GSE162653_Week_0_Obese_EDITED.txt\",\n",
    "    \"Week_12_Normal\": \"GSE162653_Week_12_Normal_weight_EDITED.txt\",\n",
    "    \"Week_12_Obese\": \"GSE162653_Week_12_Obese_EDITED.txt\",\n",
    "}\n",
    "\n",
    "#making the normal at week 0 data frame\n",
    "df_0_normal = pd.read_csv(\"GSE162653_Week_0_Normal_weight_EDITED.txt\", sep=\"\\t\", skipinitialspace=True)\n",
    "\n",
    "#making the first column title set to \"gene\"\n",
    "df_0_normal = df_0_normal.rename({'Unnamed: 0':'Gene'})\n",
    "\n",
    "df_0_normal.columns = ['Gene', '001_V2', '010_V2', '015_V2', '017_V2', '024_V2',\n",
    "       '028_V2', '034_V2', '040_V2', '042_V2', '043_V2']\n",
    "\n",
    "#making the obese at week 0 data frame\n",
    "df_0_obese = pd.read_csv(\"GSE162653_Week_0_Obese_EDITED.txt\", sep=\"\\t\", skipinitialspace=True)\n",
    "\n",
    "#making the first column title set to \"gene\", so we can make this the index/key to merge on\n",
    "df_0_obese.columns = ['Gene', '052_V2', '054_V2', '063_V2', '070_V2', '072_V2',\n",
    "       '078_V2', '085_V2', '092_V2', '099_V2', '100_V2']\n",
    "\n",
    "#making the indexing by gene for both dataframes\n",
    "df_0_normal.set_index('Gene')\n",
    "df_0_obese.set_index('Gene')\n",
    "\n",
    "#combining the week 0 data\n",
    "df_0 = pd.merge(df_0_normal, df_0_obese, how='outer', on='Gene',suffixes=('_normal','_obese'))\n",
    "df_0.to_csv(\"Monday_df_0_combined.txt\", sep=\"\\t\")\n"
   ]
  },
  {
   "cell_type": "code",
   "execution_count": 3,
   "id": "c5372448-f567-4637-8f36-3888d57e65fb",
   "metadata": {},
   "outputs": [],
   "source": [
    "#loading in the week 12 data\n",
    "df_12_normal = pd.read_csv(\"GSE162653_Week_12_Normal_weight_EDITED.txt\", sep=\"\\t\", skipinitialspace=True)\n",
    "df_12_obese = pd.read_csv(\"GSE162653_Week_12_Obese_EDITED.txt\", sep=\"\\t\", skipinitialspace=True)\n",
    "\n",
    "\n",
    "#renaming the column titles so that the first column can be used as the index gene\n",
    "\n",
    "df_12_normal.columns = ['Gene', '001_V4', '010_V4', '015_V4', '017_V4', '024_V4',\n",
    "       '028_V4', '034_V4', '040_V4', '042_V4', '043_V4']\n",
    "\n",
    "df_12_obese.columns = ['Gene', '052_V4', '054_V4', '063_V4', '070_V4', '072_V4',\n",
    "       '078_V4', '085_V4', '092_V4', '099_V4', '100_V4']\n",
    "\n",
    "#setting the index here to gene as well\n",
    "df_12_normal.set_index('Gene')\n",
    "df_12_obese.set_index('Gene')\n",
    "\n",
    "#combinig the week 12 data\n",
    "df_12 = pd.merge(df_12_normal, df_12_obese, how='outer', on='Gene',suffixes=('_normal','_obese'))\n",
    "df_12.to_csv(\"Monday_df_12_combined.txt\", sep=\"\\t\")\n"
   ]
  },
  {
   "cell_type": "code",
   "execution_count": 5,
   "id": "aba2b634-23c9-404c-9fc0-9df4d5d22baa",
   "metadata": {},
   "outputs": [],
   "source": [
    "#combining the week 0 data and week 12 data into one big ol' dataframe\n",
    "df_main = pd.merge(df_0, df_12, how='outer',on='Gene',suffixes=('_0','_12'))\n",
    "\n",
    "df_main.shape\n",
    "\n",
    "df_main.to_csv(\"Monday_ALL_combined.txt\", sep=\"\\t\")\n",
    "df_main.to_csv(\"Monday_ALL_combined.csv\")"
   ]
  },
  {
   "cell_type": "code",
   "execution_count": 7,
   "id": "770898c5-3bf0-4e23-b903-90ed27c07079",
   "metadata": {},
   "outputs": [],
   "source": [
    "#also gonna save as an excel file in case it's easier to casually view the data this way\n",
    "\n",
    "import openpyxl\n",
    "\n",
    "df_main.to_excel('Monday_ALL_combined.xlsx')"
   ]
  },
  {
   "cell_type": "code",
   "execution_count": null,
   "id": "297691fc-5a55-4ca0-8574-ba722261b3e0",
   "metadata": {},
   "outputs": [],
   "source": []
  }
 ],
 "metadata": {
  "kernelspec": {
   "display_name": "Python 3 (ipykernel)",
   "language": "python",
   "name": "python3"
  },
  "language_info": {
   "codemirror_mode": {
    "name": "ipython",
    "version": 3
   },
   "file_extension": ".py",
   "mimetype": "text/x-python",
   "name": "python",
   "nbconvert_exporter": "python",
   "pygments_lexer": "ipython3",
   "version": "3.11.5"
  }
 },
 "nbformat": 4,
 "nbformat_minor": 5
}
